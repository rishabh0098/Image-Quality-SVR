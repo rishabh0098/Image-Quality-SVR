{
 "cells": [
  {
   "cell_type": "code",
   "execution_count": 563,
   "metadata": {
    "collapsed": true
   },
   "outputs": [],
   "source": [
    "import numpy as np\n",
    "import scipy.io\n",
    "import scipy.stats\n",
    "import cv2\n",
    "from sklearn.svm import SVR\n",
    "from sklearn.model_selection import train_test_split\n",
    "from matplotlib import pyplot as plt"
   ]
  },
  {
   "cell_type": "code",
   "execution_count": 564,
   "metadata": {
    "collapsed": true
   },
   "outputs": [],
   "source": [
    "def get_feature_vec(I, I_p):\n",
    "    u,s,v = np.linalg.svd(I[:400,:400])\n",
    "    u1,s1,v1 = np.linalg.svd(I_p[:400,:400])\n",
    "    feature_vec = np.add(np.absolute(np.sum(u.conj()*u1,axis=0)),np.absolute(np.sum(v.conj()*v1,axis=0)))\n",
    "    return feature_vec"
   ]
  },
  {
   "cell_type": "code",
   "execution_count": 565,
   "metadata": {
    "collapsed": true
   },
   "outputs": [],
   "source": [
    "dmos_mat = scipy.io.loadmat('dmos.mat')\n",
    "ref_names = scipy.io.loadmat('refnames_all.mat')\n",
    "refnames_all = ref_names['refnames_all']\n",
    "orgs = dmos_mat['orgs']\n",
    "dmos = dmos_mat['dmos']"
   ]
  },
  {
   "cell_type": "code",
   "execution_count": 566,
   "metadata": {
    "collapsed": true
   },
   "outputs": [],
   "source": [
    "refimgs = {}\n",
    "refimgs['bikes.bmp'] = cv2.imread('./refimgs/bikes.bmp',0)\n",
    "refimgs['building2.bmp'] = cv2.imread('./refimgs/building2.bmp',0)\n",
    "refimgs['buildings.bmp'] = cv2.imread('./refimgs/buildings.bmp',0)\n",
    "refimgs['caps.bmp'] = cv2.imread('./refimgs/caps.bmp',0)\n",
    "refimgs['carnivaldolls.bmp'] = cv2.imread('./refimgs/carnivaldolls.bmp',0)\n",
    "refimgs['cemetry.bmp'] = cv2.imread('./refimgs/cemetry.bmp',0)\n",
    "refimgs['churchandcapitol.bmp'] = cv2.imread('./refimgs/churchandcapitol.bmp',0)\n",
    "refimgs['coinsinfountain.bmp'] = cv2.imread('./refimgs/coinsinfountain.bmp',0)\n",
    "refimgs['dancers.bmp'] = cv2.imread('./refimgs/dancers.bmp',0)\n",
    "refimgs['flowersonih35.bmp'] = cv2.imread('./refimgs/flowersonih35.bmp',0)\n",
    "refimgs['house.bmp'] = cv2.imread('./refimgs/house.bmp',0)\n",
    "refimgs['lighthouse.bmp'] = cv2.imread('./refimgs/lighthouse.bmp',0)\n",
    "refimgs['lighthouse2.bmp'] = cv2.imread('./refimgs/lighthouse2.bmp',0)\n",
    "refimgs['manfishing.bmp'] = cv2.imread('./refimgs/manfishing.bmp',0)\n",
    "refimgs['monarch.bmp'] = cv2.imread('./refimgs/monarch.bmp',0)\n",
    "refimgs['ocean.bmp'] = cv2.imread('./refimgs/ocean.bmp',0)\n",
    "refimgs['paintedhouse.bmp'] = cv2.imread('./refimgs/paintedhouse.bmp',0)\n",
    "refimgs['parrots.bmp'] = cv2.imread('./refimgs/parrots.bmp',0)\n",
    "refimgs['plane.bmp'] = cv2.imread('./refimgs/plane.bmp',0)\n",
    "refimgs['rapids.bmp'] = cv2.imread('./refimgs/rapids.bmp',0)\n",
    "refimgs['sailing1.bmp'] = cv2.imread('./refimgs/sailing1.bmp',0)\n",
    "refimgs['sailing2.bmp'] = cv2.imread('./refimgs/sailing2.bmp',0)\n",
    "refimgs['sailing3.bmp'] = cv2.imread('./refimgs/sailing3.bmp',0)\n",
    "refimgs['sailing4.bmp'] = cv2.imread('./refimgs/sailing4.bmp',0)\n",
    "refimgs['statue.bmp'] = cv2.imread('./refimgs/statue.bmp',0)\n",
    "refimgs['stream.bmp'] = cv2.imread('./refimgs/stream.bmp',0)\n",
    "refimgs['studentsculpture.bmp'] = cv2.imread('./refimgs/studentsculpture.bmp',0)\n",
    "refimgs['woman.bmp'] = cv2.imread('./refimgs/woman.bmp',0)\n",
    "refimgs['womanhat.bmp'] = cv2.imread('./refimgs/womanhat.bmp',0)"
   ]
  },
  {
   "cell_type": "code",
   "execution_count": 567,
   "metadata": {},
   "outputs": [],
   "source": [
    "X = []\n",
    "for i in range(227):\n",
    "    path = './jp2k/img'+str(i+1)+'.bmp'\n",
    "    img_p = cv2.imread(path,0)\n",
    "    ref = refnames_all[:,i]\n",
    "    img = refimgs[ref[0][0]]\n",
    "    fv = get_feature_vec(img,img_p)\n",
    "    X.append(fv)"
   ]
  },
  {
   "cell_type": "code",
   "execution_count": 568,
   "metadata": {},
   "outputs": [],
   "source": [
    "for i in range(233):\n",
    "    path = './jpeg/img'+str(i+1)+'.bmp'\n",
    "    img_p = cv2.imread(path,0)\n",
    "    ref = refnames_all[:,227+i]\n",
    "    img = refimgs[ref[0][0]]\n",
    "    fv = get_feature_vec(img,img_p)\n",
    "    X.append(fv)"
   ]
  },
  {
   "cell_type": "code",
   "execution_count": 569,
   "metadata": {
    "collapsed": true
   },
   "outputs": [],
   "source": [
    "for i in range(174):\n",
    "    path = './wn/img'+str(i+1)+'.bmp'\n",
    "    img_p = cv2.imread(path,0)\n",
    "    ref = refnames_all[:,227+233+i]\n",
    "    img = refimgs[ref[0][0]]\n",
    "    fv = get_feature_vec(img,img_p)\n",
    "    X.append(fv)"
   ]
  },
  {
   "cell_type": "code",
   "execution_count": 570,
   "metadata": {
    "collapsed": true
   },
   "outputs": [],
   "source": [
    "for i in range(174):\n",
    "    path = './gblur/img'+str(i+1)+'.bmp'\n",
    "    img_p = cv2.imread(path,0)\n",
    "    ref = refnames_all[:,227+233+174+i]\n",
    "    img = refimgs[ref[0][0]]\n",
    "    fv = get_feature_vec(img,img_p)\n",
    "    X.append(fv)"
   ]
  },
  {
   "cell_type": "code",
   "execution_count": 571,
   "metadata": {},
   "outputs": [],
   "source": [
    "for i in range(174):\n",
    "    path = './fastfading/img'+str(i+1)+'.bmp'\n",
    "    img_p = cv2.imread(path,0)\n",
    "    ref = refnames_all[:,227+233+174+174+i]\n",
    "    img = refimgs[ref[0][0]]\n",
    "    fv = get_feature_vec(img,img_p)\n",
    "    X.append(fv)"
   ]
  },
  {
   "cell_type": "code",
   "execution_count": 572,
   "metadata": {},
   "outputs": [],
   "source": [
    "X = np.array(X)"
   ]
  },
  {
   "cell_type": "code",
   "execution_count": 573,
   "metadata": {},
   "outputs": [],
   "source": [
    "Y = np.zeros((982,))\n",
    "yval = dmos[:][0]\n",
    "Y[0:982] = yval[0:982]"
   ]
  },
  {
   "cell_type": "code",
   "execution_count": 574,
   "metadata": {
    "collapsed": true
   },
   "outputs": [],
   "source": [
    "X_train,X_test,Y_train,Y_test = train_test_split(X, Y, test_size=0.1)"
   ]
  },
  {
   "cell_type": "code",
   "execution_count": 575,
   "metadata": {
    "collapsed": true
   },
   "outputs": [],
   "source": [
    "clf = SVR(C = 1.0, epsilon = 0.1)"
   ]
  },
  {
   "cell_type": "code",
   "execution_count": 576,
   "metadata": {},
   "outputs": [
    {
     "data": {
      "text/plain": [
       "SVR(C=1.0, cache_size=200, coef0=0.0, degree=3, epsilon=0.1, gamma='auto',\n",
       "  kernel='rbf', max_iter=-1, shrinking=True, tol=0.001, verbose=False)"
      ]
     },
     "execution_count": 576,
     "metadata": {},
     "output_type": "execute_result"
    }
   ],
   "source": [
    "clf.fit(X_train,Y_train)"
   ]
  },
  {
   "cell_type": "code",
   "execution_count": 577,
   "metadata": {
    "collapsed": true
   },
   "outputs": [],
   "source": [
    "Y_pred = clf.predict(X_test)"
   ]
  },
  {
   "cell_type": "code",
   "execution_count": 578,
   "metadata": {
    "scrolled": true
   },
   "outputs": [
    {
     "name": "stdout",
     "output_type": "stream",
     "text": [
      "[ 35.08796674  29.38341524  53.78108342   0.09995846   0.09995846\n",
      "  40.8147855   53.67475174  39.79586022  31.06861154  37.97971656\n",
      "  41.80747888  32.30088633  35.11355124  51.54013382  42.40424309\n",
      "   0.09995846   0.09995846   0.09995846   0.09995846  44.24674379\n",
      "  51.54013382   0.09995846  55.72059478  43.29094153   0.09995846\n",
      "   0.09995846  44.19702225   0.09995846  36.0041589   29.01830117\n",
      "  49.81018783   0.09995846  41.90292044  49.31236004   0.09995846\n",
      "  41.85171368  48.87455673   0.09995846   0.09995846  40.6577316\n",
      "   0.09995846   0.09995846  48.8356871   54.1344669   32.19682412\n",
      "   0.09995846  24.02810883  41.45189066  52.91432228   0.09995846\n",
      "  53.61361332   0.09995846  39.37456721  50.29539437  48.25090064\n",
      "   0.09995846  47.18032745  51.3155752   54.83191137  48.57621217\n",
      "  46.07852899  39.27371034  46.4709337   40.97226214  51.13689163\n",
      "  45.1901835    0.09995846  42.90341641  46.80526204   0.09995846\n",
      "  24.38729802   0.09995846  41.97902923  52.77755744  42.15969545\n",
      "  53.90134794  45.51809151  50.42910903  30.56259357  36.7547523\n",
      "  46.76284973  51.56589783   0.09995846  49.69776316  51.98858641\n",
      "  35.90919345   0.09995846  43.24786154   0.09995846  45.07719428\n",
      "   0.09995846  18.53238892  55.78147206   0.09995846   0.09995846\n",
      "  41.40869354  44.38754779  36.23364268  41.51332331] (99,)\n"
     ]
    }
   ],
   "source": [
    "print(Y_pred,Y_pred.shape)"
   ]
  },
  {
   "cell_type": "code",
   "execution_count": 582,
   "metadata": {},
   "outputs": [],
   "source": [
    "pcc,pval = scipy.stats.pearsonr(Y_test,Y_pred)"
   ]
  },
  {
   "cell_type": "code",
   "execution_count": 580,
   "metadata": {},
   "outputs": [],
   "source": [
    "p = []\n",
    "for i in range(10):\n",
    "    x,x1,y,y1 = train_test_split(X,Y,test_size=0.1)\n",
    "    clf.fit(x,y)\n",
    "    yp = clf.predict(x1)\n",
    "    p1 = scipy.stats.pearsonr(y1,yp)\n",
    "    p.append(p1[0])\n",
    "    np.savetxt('out'+str(i)+'.csv',(np.transpose(y1),np.transpose(yp)),delimiter=',')\n",
    "np.savetxt('pcc.csv',p,delimiter=',')"
   ]
  },
  {
   "cell_type": "code",
   "execution_count": null,
   "metadata": {
    "collapsed": true
   },
   "outputs": [],
   "source": []
  }
 ],
 "metadata": {
  "kernelspec": {
   "display_name": "Python 3",
   "language": "python",
   "name": "python3"
  },
  "language_info": {
   "codemirror_mode": {
    "name": "ipython",
    "version": 3
   },
   "file_extension": ".py",
   "mimetype": "text/x-python",
   "name": "python",
   "nbconvert_exporter": "python",
   "pygments_lexer": "ipython3",
   "version": "3.6.2"
  }
 },
 "nbformat": 4,
 "nbformat_minor": 2
}
